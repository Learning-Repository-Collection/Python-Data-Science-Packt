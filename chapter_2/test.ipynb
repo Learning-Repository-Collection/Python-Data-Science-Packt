{
 "cells": [
  {
   "cell_type": "code",
   "execution_count": 3,
   "id": "initial_id",
   "metadata": {
    "ExecuteTime": {
     "end_time": "2024-08-08T04:34:18.162413Z",
     "start_time": "2024-08-08T04:34:18.149947Z"
    },
    "collapsed": true
   },
   "outputs": [
    {
     "name": "stdout",
     "output_type": "stream",
     "text": [
      "hello world\n"
     ]
    }
   ],
   "source": [
    "print('hello world')"
   ]
  },
  {
   "cell_type": "code",
   "execution_count": 4,
   "id": "42388bf854fe98ed",
   "metadata": {
    "ExecuteTime": {
     "end_time": "2024-08-08T05:30:53.722566Z",
     "start_time": "2024-08-08T05:30:52.781098Z"
    }
   },
   "outputs": [],
   "source": [
    "import numpy as np"
   ]
  },
  {
   "cell_type": "code",
   "execution_count": 5,
   "id": "931c2cce2b164b1c",
   "metadata": {
    "ExecuteTime": {
     "end_time": "2024-08-08T05:31:33.229898Z",
     "start_time": "2024-08-08T05:31:33.216073Z"
    }
   },
   "outputs": [],
   "source": [
    "data = {i: np.random.randn() for i in range(7)}"
   ]
  },
  {
   "cell_type": "code",
   "execution_count": 6,
   "id": "db532fe711b54f70",
   "metadata": {
    "ExecuteTime": {
     "end_time": "2024-08-08T05:31:39.924103Z",
     "start_time": "2024-08-08T05:31:39.889889Z"
    }
   },
   "outputs": [
    {
     "data": {
      "text/plain": [
       "{0: 0.6685283692484422,\n",
       " 1: -0.6639178151438675,\n",
       " 2: 0.49737934489110014,\n",
       " 3: -1.6951390395348926,\n",
       " 4: -1.0047800187252984,\n",
       " 5: 2.003936491938148,\n",
       " 6: 1.042621824730093}"
      ]
     },
     "execution_count": 6,
     "metadata": {},
     "output_type": "execute_result"
    }
   ],
   "source": [
    "data"
   ]
  },
  {
   "cell_type": "code",
   "execution_count": null,
   "id": "8891c11e0c12f326",
   "metadata": {},
   "outputs": [],
   "source": []
  }
 ],
 "metadata": {
  "kernelspec": {
   "display_name": "Python 3",
   "language": "python",
   "name": "python3"
  },
  "language_info": {
   "codemirror_mode": {
    "name": "ipython",
    "version": 2
   },
   "file_extension": ".py",
   "mimetype": "text/x-python",
   "name": "python",
   "nbconvert_exporter": "python",
   "pygments_lexer": "ipython2",
   "version": "2.7.6"
  }
 },
 "nbformat": 4,
 "nbformat_minor": 5
}
